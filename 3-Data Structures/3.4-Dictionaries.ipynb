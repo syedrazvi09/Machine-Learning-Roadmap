{
 "cells": [
  {
   "cell_type": "code",
   "execution_count": 1,
   "id": "001e7fab",
   "metadata": {},
   "outputs": [
    {
     "name": "stdout",
     "output_type": "stream",
     "text": [
      "<class 'dict'>\n"
     ]
    }
   ],
   "source": [
    "# creating\n",
    "\n",
    "empty_d = {}\n",
    "print(type(empty_d))"
   ]
  },
  {
   "cell_type": "code",
   "execution_count": 2,
   "id": "cc1ca1bb",
   "metadata": {},
   "outputs": [
    {
     "data": {
      "text/plain": [
       "{}"
      ]
     },
     "execution_count": 2,
     "metadata": {},
     "output_type": "execute_result"
    }
   ],
   "source": [
    "empty_d = dict()\n",
    "empty_d"
   ]
  },
  {
   "cell_type": "code",
   "execution_count": 4,
   "id": "c2aaf155",
   "metadata": {},
   "outputs": [
    {
     "name": "stdout",
     "output_type": "stream",
     "text": [
      "{'name': 'Bruce', 'age': 40, 'grade': 'A'}\n",
      "<class 'dict'>\n"
     ]
    }
   ],
   "source": [
    "student = {\n",
    "    \"name\" : \"Bruce\",\n",
    "    \"age\" : 40,\n",
    "    \"grade\" : 'A'\n",
    "}\n",
    "\n",
    "print(student)\n",
    "print(type(student))"
   ]
  },
  {
   "cell_type": "code",
   "execution_count": 5,
   "id": "e5b86873",
   "metadata": {},
   "outputs": [
    {
     "name": "stdout",
     "output_type": "stream",
     "text": [
      "A\n"
     ]
    }
   ],
   "source": [
    "# accessing\n",
    "print(student['grade']) "
   ]
  },
  {
   "cell_type": "code",
   "execution_count": 6,
   "id": "fda4cd2c",
   "metadata": {},
   "outputs": [
    {
     "name": "stdout",
     "output_type": "stream",
     "text": [
      "40\n",
      "None\n"
     ]
    }
   ],
   "source": [
    "# accessing using get() method\n",
    "\n",
    "print(student.get('age'))\n",
    "print(student.get('last_name'))"
   ]
  },
  {
   "cell_type": "code",
   "execution_count": 7,
   "id": "11ca5f63",
   "metadata": {},
   "outputs": [
    {
     "name": "stdout",
     "output_type": "stream",
     "text": [
      "Not Available\n"
     ]
    }
   ],
   "source": [
    "print(student.get('last_name', \"Not Available\"))"
   ]
  },
  {
   "cell_type": "code",
   "execution_count": 9,
   "id": "ff84e792",
   "metadata": {},
   "outputs": [
    {
     "name": "stdout",
     "output_type": "stream",
     "text": [
      "{'name': 'Bruce', 'age': 40, 'grade': 'A'}\n",
      "{'name': 'Bruce', 'age': 45, 'grade': 'A'}\n",
      "{'name': 'Bruce', 'age': 45, 'grade': 'A', 'address': 'India'}\n"
     ]
    }
   ],
   "source": [
    "# modifying elements\n",
    "\n",
    "print(student)\n",
    "student[\"age\"] = 45\n",
    "print(student)\n",
    "student[\"address\"] = \"India\"\n",
    "print(student)"
   ]
  },
  {
   "cell_type": "code",
   "execution_count": 10,
   "id": "76b2ca51",
   "metadata": {},
   "outputs": [
    {
     "name": "stdout",
     "output_type": "stream",
     "text": [
      "{'name': 'Bruce', 'age': 45, 'address': 'India'}\n"
     ]
    }
   ],
   "source": [
    "del student['grade']\n",
    "\n",
    "print(student)"
   ]
  },
  {
   "cell_type": "code",
   "execution_count": 11,
   "id": "3a92e935",
   "metadata": {},
   "outputs": [
    {
     "name": "stdout",
     "output_type": "stream",
     "text": [
      "dict_keys(['name', 'age', 'address'])\n",
      "dict_values(['Bruce', 45, 'India'])\n"
     ]
    }
   ],
   "source": [
    "# methods\n",
    "\n",
    "keys = student.keys()\n",
    "print(keys)\n",
    "\n",
    "values = student.values()\n",
    "print(values)"
   ]
  },
  {
   "cell_type": "code",
   "execution_count": null,
   "id": "c0854a49",
   "metadata": {},
   "outputs": [
    {
     "name": "stdout",
     "output_type": "stream",
     "text": [
      "dict_items([('name', 'Bruce'), ('age', 45), ('address', 'India')])\n"
     ]
    }
   ],
   "source": [
    "items = student.items()\n",
    "print(items)"
   ]
  },
  {
   "cell_type": "code",
   "execution_count": 14,
   "id": "37e54291",
   "metadata": {},
   "outputs": [
    {
     "name": "stdout",
     "output_type": "stream",
     "text": [
      "{'name': 'Bruce', 'age': 45, 'address': 'India'}\n",
      "{'name': 'Bruce', 'age': 45, 'address': 'India'}\n"
     ]
    }
   ],
   "source": [
    "# shallow copy\n",
    "\n",
    "student_copy = student\n",
    "print(student)\n",
    "print(student_copy)"
   ]
  },
  {
   "cell_type": "code",
   "execution_count": 15,
   "id": "5de4856a",
   "metadata": {},
   "outputs": [
    {
     "name": "stdout",
     "output_type": "stream",
     "text": [
      "{'name': 'Clark', 'age': 45, 'address': 'India'}\n",
      "{'name': 'Clark', 'age': 45, 'address': 'India'}\n"
     ]
    }
   ],
   "source": [
    "student[\"name\"] = \"Clark\"\n",
    "print(student)\n",
    "print(student_copy)"
   ]
  },
  {
   "cell_type": "code",
   "execution_count": 17,
   "id": "62b5f5c1",
   "metadata": {},
   "outputs": [
    {
     "name": "stdout",
     "output_type": "stream",
     "text": [
      "{'name': 'Clark', 'age': 45, 'address': 'India'}\n",
      "{'name': 'Thor', 'age': 45, 'address': 'India'}\n"
     ]
    }
   ],
   "source": [
    "student_copy1 = student.copy()\n",
    "student['name'] = \"Thor\"\n",
    "print(student_copy1)\n",
    "print(student)"
   ]
  },
  {
   "cell_type": "code",
   "execution_count": 18,
   "id": "8e2ff7d0",
   "metadata": {},
   "outputs": [
    {
     "name": "stdout",
     "output_type": "stream",
     "text": [
      "name\n",
      "age\n",
      "address\n"
     ]
    }
   ],
   "source": [
    "# iterating\n",
    "\n",
    "# loops\n",
    "\n",
    "# iterting over keys\n",
    "for keys in student.keys():\n",
    "    print(keys)\n",
    "\n"
   ]
  },
  {
   "cell_type": "code",
   "execution_count": 19,
   "id": "efc7486b",
   "metadata": {},
   "outputs": [
    {
     "name": "stdout",
     "output_type": "stream",
     "text": [
      "Thor\n",
      "45\n",
      "India\n"
     ]
    }
   ],
   "source": [
    "# iterting over values\n",
    "\n",
    "for values in student.values():\n",
    "    print(values)"
   ]
  },
  {
   "cell_type": "code",
   "execution_count": 20,
   "id": "9768d4f5",
   "metadata": {},
   "outputs": [
    {
     "name": "stdout",
     "output_type": "stream",
     "text": [
      "name:Thor\n",
      "age:45\n",
      "address:India\n"
     ]
    }
   ],
   "source": [
    "# iterate of key value pairs\n",
    "\n",
    "for key, value in student.items():\n",
    "    print(f\"{key}:{value}\")"
   ]
  },
  {
   "cell_type": "code",
   "execution_count": 21,
   "id": "3320c451",
   "metadata": {},
   "outputs": [
    {
     "name": "stdout",
     "output_type": "stream",
     "text": [
      "{'student1': {'name': 'Bruce', 'age': 35}, 'student2': {'name': 'Clark', 'age': 30}}\n"
     ]
    }
   ],
   "source": [
    "# nested dictionaries\n",
    "\n",
    "students = {\n",
    "    \"student1\" : {\"name\" : \"Bruce\" , \"age\": 35},\n",
    "    \"student2\" : {\"name\" : \"Clark\", \"age\": 30}\n",
    "}\n",
    "\n",
    "print(students)"
   ]
  },
  {
   "cell_type": "code",
   "execution_count": 23,
   "id": "aae6d3d0",
   "metadata": {},
   "outputs": [
    {
     "name": "stdout",
     "output_type": "stream",
     "text": [
      "Clark\n",
      "30\n"
     ]
    }
   ],
   "source": [
    "# accessing nested dicts\n",
    "\n",
    "print(students[\"student2\"][\"name\"])\n",
    "print(students[\"student2\"][\"age\"])"
   ]
  },
  {
   "cell_type": "code",
   "execution_count": 25,
   "id": "774e8be3",
   "metadata": {},
   "outputs": [
    {
     "name": "stdout",
     "output_type": "stream",
     "text": [
      "student1:{'name': 'Bruce', 'age': 35}\n",
      "name:Bruce\n",
      "age:35\n",
      "student2:{'name': 'Clark', 'age': 30}\n",
      "name:Clark\n",
      "age:30\n"
     ]
    }
   ],
   "source": [
    "# iterating over nested dictionaries\n",
    "\n",
    "for student_id, student_info in students.items():\n",
    "    print(f\"{student_id}:{student_info}\")\n",
    "    for key, value in student_info.items():\n",
    "        print(f\"{key}:{value}\")\n"
   ]
  },
  {
   "cell_type": "code",
   "execution_count": 24,
   "id": "96b55e04",
   "metadata": {},
   "outputs": [
    {
     "data": {
      "text/plain": [
       "dict_items([('student1', {'name': 'Bruce', 'age': 35}), ('student2', {'name': 'Clark', 'age': 30})])"
      ]
     },
     "execution_count": 24,
     "metadata": {},
     "output_type": "execute_result"
    }
   ],
   "source": [
    "students.items()"
   ]
  },
  {
   "cell_type": "code",
   "execution_count": 26,
   "id": "8dad9398",
   "metadata": {},
   "outputs": [
    {
     "name": "stdout",
     "output_type": "stream",
     "text": [
      "{0: 0, 1: 1, 2: 4, 3: 9, 4: 16}\n"
     ]
    }
   ],
   "source": [
    "# dictionary comprehension\n",
    "\n",
    "squares = {x : x ** 2 for x in range (5)}\n",
    "\n",
    "print(squares)"
   ]
  },
  {
   "cell_type": "code",
   "execution_count": 27,
   "id": "ba1f93fe",
   "metadata": {},
   "outputs": [
    {
     "name": "stdout",
     "output_type": "stream",
     "text": [
      "{0: 0, 2: 4, 4: 16, 6: 36, 8: 64}\n"
     ]
    }
   ],
   "source": [
    "# conditional \n",
    "\n",
    "evens = {x : x ** 2 for x in range(10) if x % 2 == 0}\n",
    "\n",
    "print(evens)"
   ]
  },
  {
   "cell_type": "code",
   "execution_count": 28,
   "id": "a62aa4de",
   "metadata": {},
   "outputs": [
    {
     "name": "stdout",
     "output_type": "stream",
     "text": [
      "{1: 2, 2: 3, 4: 1, 5: 1, 7: 1, 6: 2, 8: 1, 9: 2}\n"
     ]
    }
   ],
   "source": [
    "# Examples\n",
    "\n",
    "# frequency of elements in list\n",
    "\n",
    "numbers = [1,2,2,4,5,2,1,7,6,8,9,6,9]\n",
    "\n",
    "freq = {}\n",
    "\n",
    "for number in numbers:\n",
    "    if number in freq:\n",
    "        freq[number] += 1\n",
    "    else:\n",
    "        freq[number] = 1\n",
    "\n",
    "print(freq)"
   ]
  },
  {
   "cell_type": "code",
   "execution_count": 29,
   "id": "be76bde8",
   "metadata": {},
   "outputs": [
    {
     "name": "stdout",
     "output_type": "stream",
     "text": [
      "{'A': 98, 'B': 86, 'C': 76, 'D': 67}\n"
     ]
    }
   ],
   "source": [
    "# merge two dicts\n",
    "\n",
    "dict1 = {\n",
    "    'A' : 98,\n",
    "    'B' : 86\n",
    "}\n",
    "dict2 = {\n",
    "    'C' : 76,\n",
    "    'D' : 67\n",
    "}\n",
    "\n",
    "merge_d = {**dict1, **dict2}\n",
    "\n",
    "print(merge_d)"
   ]
  }
 ],
 "metadata": {
  "kernelspec": {
   "display_name": ".venv (3.11.5)",
   "language": "python",
   "name": "python3"
  },
  "language_info": {
   "codemirror_mode": {
    "name": "ipython",
    "version": 3
   },
   "file_extension": ".py",
   "mimetype": "text/x-python",
   "name": "python",
   "nbconvert_exporter": "python",
   "pygments_lexer": "ipython3",
   "version": "3.11.5"
  }
 },
 "nbformat": 4,
 "nbformat_minor": 5
}
