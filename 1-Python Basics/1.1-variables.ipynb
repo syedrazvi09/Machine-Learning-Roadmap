{
 "cells": [
  {
   "cell_type": "code",
   "execution_count": 1,
   "id": "07db5529",
   "metadata": {},
   "outputs": [
    {
     "name": "stdout",
     "output_type": "stream",
     "text": [
      "Age:  31 Height:  5.6 Name:  Bruce\n"
     ]
    }
   ],
   "source": [
    "# Declaring and Assigning Variables\n",
    "\n",
    "age = 31\n",
    "height = 5.6\n",
    "name = \"Bruce\"\n",
    "is_student = True\n",
    "\n",
    "#Print the variables\n",
    "print(\"Age: \", age, \"Height: \", height, \"Name: \",name)"
   ]
  },
  {
   "cell_type": "code",
   "execution_count": 2,
   "id": "b1198f6f",
   "metadata": {},
   "outputs": [
    {
     "name": "stdout",
     "output_type": "stream",
     "text": [
      "<class 'int'>\n",
      "<class 'str'>\n"
     ]
    }
   ],
   "source": [
    "# Type conversion\n",
    "\n",
    "age = 18\n",
    "print(type(age))\n",
    "\n",
    "age_str = str(age)\n",
    "print(type(age_str))"
   ]
  },
  {
   "cell_type": "code",
   "execution_count": 6,
   "id": "02f72d75",
   "metadata": {},
   "outputs": [
    {
     "name": "stdout",
     "output_type": "stream",
     "text": [
      "<class 'float'>\n",
      "<class 'int'>\n"
     ]
    }
   ],
   "source": [
    "h = 5.11\n",
    "print(type(h))\n",
    "\n",
    "hf = int(h)\n",
    "print(type(hf))"
   ]
  },
  {
   "cell_type": "code",
   "execution_count": 1,
   "id": "4f8cf973",
   "metadata": {},
   "outputs": [
    {
     "name": "stdout",
     "output_type": "stream",
     "text": [
      "<class 'int'>\n",
      "<class 'float'>\n",
      "<class 'str'>\n"
     ]
    }
   ],
   "source": [
    "# Dynamic Typing\n",
    "var = 10\n",
    "print(type(var))\n",
    "\n",
    "var = 3.2\n",
    "print(type(var))\n",
    "\n",
    "var = '5'\n",
    "print(type(var))"
   ]
  },
  {
   "cell_type": "code",
   "execution_count": 1,
   "id": "c447c8e1",
   "metadata": {},
   "outputs": [
    {
     "name": "stdout",
     "output_type": "stream",
     "text": [
      "Hello, hi\n"
     ]
    }
   ],
   "source": [
    "name = input(\"Enter your name: \")\n",
    "print(\"Hello,\", name)\n"
   ]
  },
  {
   "cell_type": "code",
   "execution_count": 2,
   "id": "ae2ab879",
   "metadata": {},
   "outputs": [
    {
     "name": "stdout",
     "output_type": "stream",
     "text": [
      "56 <class 'int'>\n"
     ]
    }
   ],
   "source": [
    "age = int(input(\"Enter your age: \"))\n",
    "print(age, type(age))"
   ]
  },
  {
   "cell_type": "code",
   "execution_count": 3,
   "id": "175f505d",
   "metadata": {},
   "outputs": [
    {
     "name": "stdout",
     "output_type": "stream",
     "text": [
      "9.0 3.0 18.0 2.0\n"
     ]
    }
   ],
   "source": [
    "# Simple calculator\n",
    "num1 = float(input(\"Enter number: \"))\n",
    "num2 = float(input(\"Enter number: \"))\n",
    "\n",
    "print(num1+num2, num1-num2, num1*num2, num1/num2)"
   ]
  }
 ],
 "metadata": {
  "kernelspec": {
   "display_name": ".venv (3.11.5)",
   "language": "python",
   "name": "python3"
  },
  "language_info": {
   "codemirror_mode": {
    "name": "ipython",
    "version": 3
   },
   "file_extension": ".py",
   "mimetype": "text/x-python",
   "name": "python",
   "nbconvert_exporter": "python",
   "pygments_lexer": "ipython3",
   "version": "3.11.5"
  }
 },
 "nbformat": 4,
 "nbformat_minor": 5
}
