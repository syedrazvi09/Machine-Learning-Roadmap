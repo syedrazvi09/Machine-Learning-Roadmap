{
 "cells": [
  {
   "cell_type": "code",
   "execution_count": null,
   "id": "498a51ed",
   "metadata": {},
   "outputs": [],
   "source": [
    "# Basic Syntax Rules in Python\n",
    "# Case Sensitivity\n",
    "\n",
    "name = \"Bruce\"\n",
    "print()\n",
    "Name = \"Wayne\"\n",
    "print()"
   ]
  }
 ],
 "metadata": {
  "kernelspec": {
   "display_name": ".venv (3.11.5)",
   "language": "python",
   "name": "python3"
  },
  "language_info": {
   "name": "python",
   "version": "3.11.5"
  }
 },
 "nbformat": 4,
 "nbformat_minor": 5
}
