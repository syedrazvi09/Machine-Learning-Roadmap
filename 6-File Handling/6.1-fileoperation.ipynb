{
 "cells": [
  {
   "cell_type": "code",
   "execution_count": 2,
   "id": "26609d40",
   "metadata": {},
   "outputs": [
    {
     "name": "stdout",
     "output_type": "stream",
     "text": [
      "hello\n",
      "how are you\n",
      "what is your name\n"
     ]
    }
   ],
   "source": [
    "# read a file\n",
    "\n",
    "with open('example.txt', 'r') as file:\n",
    "    content = file.read()\n",
    "    print(content)"
   ]
  },
  {
   "cell_type": "code",
   "execution_count": 4,
   "id": "f7590342",
   "metadata": {},
   "outputs": [
    {
     "name": "stdout",
     "output_type": "stream",
     "text": [
      "hello\n",
      "how are you\n",
      "what is your name\n"
     ]
    }
   ],
   "source": [
    "with open('example.txt', 'r') as file:\n",
    "    for line in file:\n",
    "        print(line.strip())"
   ]
  },
  {
   "cell_type": "code",
   "execution_count": 5,
   "id": "b4e87fee",
   "metadata": {},
   "outputs": [],
   "source": [
    "# writing a file (overwriting)\n",
    "\n",
    "with open('example.txt', 'w') as file:\n",
    "    file.write('Hello Batman! \\n')\n",
    "    file.write('this is a new line.')"
   ]
  },
  {
   "cell_type": "code",
   "execution_count": 7,
   "id": "3174b71f",
   "metadata": {},
   "outputs": [],
   "source": [
    "# write without overwrite\n",
    "\n",
    "with open('example.txt', 'a') as file:\n",
    "    file.write('\\nWriting using append')"
   ]
  },
  {
   "cell_type": "code",
   "execution_count": 9,
   "id": "8266037a",
   "metadata": {},
   "outputs": [],
   "source": [
    "# writing a list of lines to a file\n",
    "\n",
    "lines = ['First line \\n', 'Second line \\n', 'Third line \\n']\n",
    "\n",
    "with open('example.txt', 'a') as file:\n",
    "    file.writelines(lines)"
   ]
  },
  {
   "cell_type": "code",
   "execution_count": 10,
   "id": "4716894f",
   "metadata": {},
   "outputs": [],
   "source": [
    "# binary files\n",
    "\n",
    "# writing to a binary file\n",
    "\n",
    "data = b'\\x00\\x01\\x02\\x03\\x04'\n",
    "\n",
    "with open('example.bin', 'wb') as file:\n",
    "    file.write(data)"
   ]
  },
  {
   "cell_type": "code",
   "execution_count": 11,
   "id": "83ef4e81",
   "metadata": {},
   "outputs": [
    {
     "name": "stdout",
     "output_type": "stream",
     "text": [
      "b'\\x00\\x01\\x02\\x03\\x04'\n"
     ]
    }
   ],
   "source": [
    "with open('example.bin', 'rb') as file:\n",
    "    content = file.read()\n",
    "    print(content)"
   ]
  },
  {
   "cell_type": "code",
   "execution_count": 12,
   "id": "ee8f0840",
   "metadata": {},
   "outputs": [],
   "source": [
    "# read the content from source text file adn write to a dest text file\n",
    "\n",
    "with open('example.txt', 'r') as source_file:\n",
    "    content = source_file.read()\n",
    "\n",
    "with open('destination.txt', 'w') as file:\n",
    "    file.write(content)"
   ]
  },
  {
   "cell_type": "code",
   "execution_count": 13,
   "id": "0d8c289d",
   "metadata": {},
   "outputs": [
    {
     "name": "stdout",
     "output_type": "stream",
     "text": [
      "Lines: 5, Words: 17, Characters: 112\n"
     ]
    }
   ],
   "source": [
    "# read a text file and count number of lines, words, and chars\n",
    "# counting lines, words, and char in a text file\n",
    "\n",
    "def count_text_file(file_path):\n",
    "    with open(file_path, 'r') as file:\n",
    "        lines = file.readlines()\n",
    "        line_count = len(lines)\n",
    "        word_count = sum(len(line.split()) for line in lines)\n",
    "        char_count = sum(len(line) for line in lines)\n",
    "    return line_count, word_count, char_count\n",
    "\n",
    "file_path = 'example.txt'\n",
    "lines, words, characters = count_text_file(file_path)\n",
    "print(f\"Lines: {lines}, Words: {words}, Characters: {characters}\")"
   ]
  },
  {
   "cell_type": "code",
   "execution_count": 14,
   "id": "68fb7d9d",
   "metadata": {},
   "outputs": [
    {
     "name": "stdout",
     "output_type": "stream",
     "text": [
      "Hello World\n",
      "This is a new line\n",
      "\n"
     ]
    }
   ],
   "source": [
    "# writing then reading a file\n",
    "\n",
    "with open('example.txt', 'w+') as file:\n",
    "    file.write(\"Hello World\\n\")\n",
    "    file.write(\"This is a new line\\n\")\n",
    "\n",
    "    # move the file cursor to the beginning\n",
    "    file.seek(0)\n",
    "\n",
    "    # read\n",
    "    content = file.read()\n",
    "    print(content)\n"
   ]
  }
 ],
 "metadata": {
  "kernelspec": {
   "display_name": ".venv (3.11.5)",
   "language": "python",
   "name": "python3"
  },
  "language_info": {
   "codemirror_mode": {
    "name": "ipython",
    "version": 3
   },
   "file_extension": ".py",
   "mimetype": "text/x-python",
   "name": "python",
   "nbconvert_exporter": "python",
   "pygments_lexer": "ipython3",
   "version": "3.11.5"
  }
 },
 "nbformat": 4,
 "nbformat_minor": 5
}
