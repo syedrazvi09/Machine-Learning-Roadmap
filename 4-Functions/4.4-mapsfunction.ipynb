{
 "cells": [
  {
   "cell_type": "code",
   "execution_count": 2,
   "id": "53ef9022",
   "metadata": {},
   "outputs": [],
   "source": [
    "def squares(x):\n",
    "    return x * x\n",
    "\n"
   ]
  },
  {
   "cell_type": "code",
   "execution_count": 5,
   "id": "6673b094",
   "metadata": {},
   "outputs": [
    {
     "data": {
      "text/plain": [
       "[1, 4, 9, 16, 25, 36, 49, 64, 81]"
      ]
     },
     "execution_count": 5,
     "metadata": {},
     "output_type": "execute_result"
    }
   ],
   "source": [
    "numbers = [1,2,3,4,5,6,7,8,9]\n",
    "\n",
    "list(map(squares, numbers))"
   ]
  },
  {
   "cell_type": "code",
   "execution_count": 6,
   "id": "4a7b37ed",
   "metadata": {},
   "outputs": [
    {
     "data": {
      "text/plain": [
       "[1, 4, 9, 16, 25, 36, 49, 64, 81]"
      ]
     },
     "execution_count": 6,
     "metadata": {},
     "output_type": "execute_result"
    }
   ],
   "source": [
    "list(map(lambda x : x * x, numbers))"
   ]
  },
  {
   "cell_type": "code",
   "execution_count": 7,
   "id": "8cce3880",
   "metadata": {},
   "outputs": [
    {
     "name": "stdout",
     "output_type": "stream",
     "text": [
      "[12, 14, 16, 18, 20, 22, 24, 26, 28]\n"
     ]
    }
   ],
   "source": [
    "numbers2 = [11,12,13,14,15,16,17,18,19]\n",
    "\n",
    "sums = list(map(lambda x, y : x + y, numbers, numbers2))\n",
    "\n",
    "print(sums)"
   ]
  },
  {
   "cell_type": "code",
   "execution_count": 9,
   "id": "8b826696",
   "metadata": {},
   "outputs": [
    {
     "name": "stdout",
     "output_type": "stream",
     "text": [
      "[1, 2, 3, 4, 5]\n",
      "<class 'list'>\n"
     ]
    }
   ],
   "source": [
    "s = ['1', '2', '3', '4', '5']\n",
    "i = list(map(int, s))\n",
    "\n",
    "print(i)\n",
    "print(type(i))"
   ]
  },
  {
   "cell_type": "code",
   "execution_count": 10,
   "id": "44042190",
   "metadata": {},
   "outputs": [
    {
     "name": "stdout",
     "output_type": "stream",
     "text": [
      "['APPLE', 'BANANA', 'MANGO']\n"
     ]
    }
   ],
   "source": [
    "words = ['apple', 'banana', 'mango']\n",
    "\n",
    "upper_case = list(map(str.upper, words))\n",
    "\n",
    "print(upper_case)"
   ]
  },
  {
   "cell_type": "code",
   "execution_count": 11,
   "id": "501d3575",
   "metadata": {},
   "outputs": [
    {
     "data": {
      "text/plain": [
       "['Bruce', 'Clark']"
      ]
     },
     "execution_count": 11,
     "metadata": {},
     "output_type": "execute_result"
    }
   ],
   "source": [
    "def get_n(persons):\n",
    "    return persons['name']\n",
    "\n",
    "\n",
    "people = [\n",
    "    {'name' : 'Bruce', 'age' : 45},\n",
    "    {'name' : 'Clark', 'age' : 35}\n",
    "]\n",
    "\n",
    "list(map(get_n, people))"
   ]
  }
 ],
 "metadata": {
  "kernelspec": {
   "display_name": ".venv (3.11.5)",
   "language": "python",
   "name": "python3"
  },
  "language_info": {
   "codemirror_mode": {
    "name": "ipython",
    "version": 3
   },
   "file_extension": ".py",
   "mimetype": "text/x-python",
   "name": "python",
   "nbconvert_exporter": "python",
   "pygments_lexer": "ipython3",
   "version": "3.11.5"
  }
 },
 "nbformat": 4,
 "nbformat_minor": 5
}
