{
 "cells": [
  {
   "cell_type": "code",
   "execution_count": 5,
   "id": "b7285ace",
   "metadata": {},
   "outputs": [
    {
     "name": "stdout",
     "output_type": "stream",
     "text": [
      "89.6\n",
      "172.4\n"
     ]
    }
   ],
   "source": [
    "def convert_t(temp, unit):\n",
    "    if unit == 'C' or 'c':\n",
    "        return temp * 9/5 + 32\n",
    "    elif unit == 'F' or 'f':\n",
    "        return (temp - 32) * 5/9\n",
    "    else:\n",
    "        return None\n",
    "\n",
    "print(convert_t(32, 'c'))\n",
    "print(convert_t(78, 'F'))"
   ]
  },
  {
   "cell_type": "code",
   "execution_count": 8,
   "id": "c52c811e",
   "metadata": {},
   "outputs": [
    {
     "name": "stdout",
     "output_type": "stream",
     "text": [
      "False\n",
      "True\n"
     ]
    }
   ],
   "source": [
    "def is_s_password(password):\n",
    "    if len(password) < 8:\n",
    "        return False\n",
    "    if not any(char.isdigit() for char in password):\n",
    "        return False\n",
    "    if not any(char.islower() for char in password):\n",
    "        return False\n",
    "    if not any(char.isupper() for char in password):\n",
    "        return False\n",
    "    if not any(char in '!@#$%^&*()_+-=' for char in password):\n",
    "        return False\n",
    "    return True\n",
    "\n",
    "\n",
    "print(is_s_password('abcd'))\n",
    "print(is_s_password('aAb9@lm1234'))"
   ]
  },
  {
   "cell_type": "code",
   "execution_count": 9,
   "id": "825f0dee",
   "metadata": {},
   "outputs": [
    {
     "name": "stdout",
     "output_type": "stream",
     "text": [
      "310\n"
     ]
    }
   ],
   "source": [
    "cart = [\n",
    "    {'item' : 'Apple', 'price' : 15, 'quantity' : 6},\n",
    "    {'item' : 'Mango', 'price' : 35, 'quantity' : 4},\n",
    "    {'item' : 'Orange', 'price' : 10, 'quantity' : 8},\n",
    "\n",
    "]\n",
    "\n",
    "def calculate_cost(cart):\n",
    "    total = 0\n",
    "    for n in cart:\n",
    "        total += n['price'] * n['quantity']\n",
    "    \n",
    "    return total\n",
    "\n",
    "\n",
    "print(calculate_cost(cart))\n"
   ]
  },
  {
   "cell_type": "code",
   "execution_count": 11,
   "id": "8a9e21a4",
   "metadata": {},
   "outputs": [
    {
     "name": "stdout",
     "output_type": "stream",
     "text": [
      "True\n",
      "False\n"
     ]
    }
   ],
   "source": [
    "def is_palindrome(s):\n",
    "    s = s.lower().replace(' ', '')\n",
    "    return s == s[:: -1]\n",
    "\n",
    "\n",
    "print(is_palindrome('Ad ad ad ada'))\n",
    "print(is_palindrome('Hello how are you'))"
   ]
  },
  {
   "cell_type": "code",
   "execution_count": 13,
   "id": "c628fa12",
   "metadata": {},
   "outputs": [
    {
     "data": {
      "text/plain": [
       "720"
      ]
     },
     "execution_count": 13,
     "metadata": {},
     "output_type": "execute_result"
    }
   ],
   "source": [
    "def fact(n):\n",
    "    if n == 0:\n",
    "        return 1\n",
    "    else:\n",
    "        return n * fact(n - 1)\n",
    "\n",
    "fact(6)"
   ]
  },
  {
   "cell_type": "code",
   "execution_count": 14,
   "id": "5a1cd2dc",
   "metadata": {},
   "outputs": [],
   "source": [
    "def is_email_valid(email):\n",
    "    if len(email) < 5:\n",
    "        return False\n",
    "    if not any(char in '@' for char in email):\n",
    "        return False\n",
    "    if not any(char in '.com' for char in email):\n",
    "        return False\n",
    "    return True"
   ]
  },
  {
   "cell_type": "code",
   "execution_count": 20,
   "id": "33bb4e2e",
   "metadata": {},
   "outputs": [
    {
     "data": {
      "text/plain": [
       "True"
      ]
     },
     "execution_count": 20,
     "metadata": {},
     "output_type": "execute_result"
    }
   ],
   "source": [
    "is_email_valid('abc@xyz.com')"
   ]
  }
 ],
 "metadata": {
  "kernelspec": {
   "display_name": ".venv (3.11.5)",
   "language": "python",
   "name": "python3"
  },
  "language_info": {
   "codemirror_mode": {
    "name": "ipython",
    "version": 3
   },
   "file_extension": ".py",
   "mimetype": "text/x-python",
   "name": "python",
   "nbconvert_exporter": "python",
   "pygments_lexer": "ipython3",
   "version": "3.11.5"
  }
 },
 "nbformat": 4,
 "nbformat_minor": 5
}
