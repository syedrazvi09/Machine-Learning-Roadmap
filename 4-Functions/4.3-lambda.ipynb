{
 "cells": [
  {
   "cell_type": "code",
   "execution_count": 1,
   "id": "abcb30ce",
   "metadata": {},
   "outputs": [
    {
     "name": "stdout",
     "output_type": "stream",
     "text": [
      "<class 'function'>\n"
     ]
    }
   ],
   "source": [
    "addition = lambda a, b : a + b\n",
    "print(type(addition))"
   ]
  },
  {
   "cell_type": "code",
   "execution_count": 2,
   "id": "98d3a058",
   "metadata": {},
   "outputs": [
    {
     "data": {
      "text/plain": [
       "7"
      ]
     },
     "execution_count": 2,
     "metadata": {},
     "output_type": "execute_result"
    }
   ],
   "source": [
    "addition(3,4)"
   ]
  },
  {
   "cell_type": "code",
   "execution_count": 3,
   "id": "37a03591",
   "metadata": {},
   "outputs": [
    {
     "data": {
      "text/plain": [
       "True"
      ]
     },
     "execution_count": 3,
     "metadata": {},
     "output_type": "execute_result"
    }
   ],
   "source": [
    "even = lambda num : num % 2 == 0\n",
    "\n",
    "\n",
    "even(8)"
   ]
  },
  {
   "cell_type": "code",
   "execution_count": 4,
   "id": "55a63b02",
   "metadata": {},
   "outputs": [
    {
     "data": {
      "text/plain": [
       "12"
      ]
     },
     "execution_count": 4,
     "metadata": {},
     "output_type": "execute_result"
    }
   ],
   "source": [
    "sums = lambda x, y, z : x + y + z\n",
    "\n",
    "sums(2,4,6)"
   ]
  },
  {
   "cell_type": "code",
   "execution_count": 5,
   "id": "60765967",
   "metadata": {},
   "outputs": [
    {
     "data": {
      "text/plain": [
       "[1, 4, 9, 16, 25]"
      ]
     },
     "execution_count": 5,
     "metadata": {},
     "output_type": "execute_result"
    }
   ],
   "source": [
    "# map()\n",
    "\n",
    "numbers = [1,2,3,4,5]\n",
    "\n",
    "list(map(lambda x : x ** 2, numbers))"
   ]
  }
 ],
 "metadata": {
  "kernelspec": {
   "display_name": ".venv (3.11.5)",
   "language": "python",
   "name": "python3"
  },
  "language_info": {
   "codemirror_mode": {
    "name": "ipython",
    "version": 3
   },
   "file_extension": ".py",
   "mimetype": "text/x-python",
   "name": "python",
   "nbconvert_exporter": "python",
   "pygments_lexer": "ipython3",
   "version": "3.11.5"
  }
 },
 "nbformat": 4,
 "nbformat_minor": 5
}
