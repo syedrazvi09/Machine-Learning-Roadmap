{
 "cells": [
  {
   "cell_type": "code",
   "execution_count": null,
   "id": "ccf3e7e9",
   "metadata": {},
   "outputs": [],
   "source": [
    "# syntax\n",
    "\n",
    "def function_name(parameters):\n",
    "    \"\"\"Docstring\"\"\"\n",
    "    #function body\n",
    "    return expression\n",
    "    "
   ]
  },
  {
   "cell_type": "code",
   "execution_count": 1,
   "id": "bb4053f7",
   "metadata": {},
   "outputs": [],
   "source": [
    "def e_or_o(num):\n",
    "    \"\"\"This function finds even or odd\"\"\"\n",
    "    if num % 2 == 0:\n",
    "        print(\"The number is even\")\n",
    "    else:\n",
    "        print(\"the number is odd\")"
   ]
  },
  {
   "cell_type": "code",
   "execution_count": 4,
   "id": "100b354f",
   "metadata": {},
   "outputs": [
    {
     "name": "stdout",
     "output_type": "stream",
     "text": [
      "the number is odd\n",
      "The number is even\n"
     ]
    }
   ],
   "source": [
    "## calling the function\n",
    "e_or_o(7)\n",
    "e_or_o(int(input(\"Enter a number: \")))"
   ]
  },
  {
   "cell_type": "code",
   "execution_count": 6,
   "id": "5f737abc",
   "metadata": {},
   "outputs": [
    {
     "name": "stdout",
     "output_type": "stream",
     "text": [
      "15\n"
     ]
    }
   ],
   "source": [
    "# function with multiple parameters\n",
    "\n",
    "def add(a, b):\n",
    "    \"\"\"This does the sum\"\"\"\n",
    "    return a + b\n",
    "\n",
    "result = add(7, 8)\n",
    "print(result)"
   ]
  },
  {
   "cell_type": "code",
   "execution_count": 7,
   "id": "974fd60c",
   "metadata": {},
   "outputs": [
    {
     "name": "stdout",
     "output_type": "stream",
     "text": [
      "Your name is Bruce\n"
     ]
    }
   ],
   "source": [
    "# default parameters\n",
    "\n",
    "def greet(name = \"Bruce\"):\n",
    "    print(f\"Your name is {name}\")\n",
    "\n",
    "greet()"
   ]
  },
  {
   "cell_type": "code",
   "execution_count": 8,
   "id": "fc214766",
   "metadata": {},
   "outputs": [],
   "source": [
    "# variable length arguments \n",
    "# positional and keywords arguments\n",
    "\n",
    "def print_var(*args):\n",
    "    for n in args:\n",
    "        print(n)"
   ]
  },
  {
   "cell_type": "code",
   "execution_count": 9,
   "id": "2c764322",
   "metadata": {},
   "outputs": [
    {
     "name": "stdout",
     "output_type": "stream",
     "text": [
      "1\n",
      "2\n",
      "3\n",
      "Bruce\n"
     ]
    }
   ],
   "source": [
    "print_var(1,2,3,\"Bruce\")"
   ]
  },
  {
   "cell_type": "code",
   "execution_count": 12,
   "id": "5363a687",
   "metadata": {},
   "outputs": [],
   "source": [
    "# keyword argument\n",
    "\n",
    "def print_k(**kwargs):\n",
    "    for key, value in kwargs.items():\n",
    "        print(f\"key = {key} , value = {value}\")"
   ]
  },
  {
   "cell_type": "code",
   "execution_count": 13,
   "id": "4d072398",
   "metadata": {},
   "outputs": [
    {
     "name": "stdout",
     "output_type": "stream",
     "text": [
      "key = name , value = Bruce\n",
      "key = age , value = 44\n",
      "key = city , value = Gotham\n"
     ]
    }
   ],
   "source": [
    "print_k(name = \"Bruce\", age = 44, city = \"Gotham\")"
   ]
  },
  {
   "cell_type": "code",
   "execution_count": 14,
   "id": "704fbf10",
   "metadata": {},
   "outputs": [],
   "source": [
    "def print_p_k(*args, **kwargs):\n",
    "    for v in args:\n",
    "        print(f\"From Positional Argument {v}\")\n",
    "\n",
    "    for k, val in kwargs.items():\n",
    "        print(f\"From Keyword Argument {k} {val}\")"
   ]
  },
  {
   "cell_type": "code",
   "execution_count": 16,
   "id": "cd41b4ce",
   "metadata": {},
   "outputs": [
    {
     "name": "stdout",
     "output_type": "stream",
     "text": [
      "From Positional Argument 1\n",
      "From Positional Argument 2\n",
      "From Positional Argument 3\n",
      "From Positional Argument 5\n",
      "From Positional Argument 6\n",
      "From Positional Argument Bruce\n",
      "From Keyword Argument name Clark\n",
      "From Keyword Argument age 36\n",
      "From Keyword Argument city Metropolis\n"
     ]
    }
   ],
   "source": [
    "print_p_k(1,2,3,5,6,\"Bruce\", name = \"Clark\", age = 36, city = \"Metropolis\")"
   ]
  },
  {
   "cell_type": "code",
   "execution_count": null,
   "id": "144ab6d1",
   "metadata": {},
   "outputs": [
    {
     "data": {
      "text/plain": [
       "6"
      ]
     },
     "execution_count": 17,
     "metadata": {},
     "output_type": "execute_result"
    }
   ],
   "source": [
    "# return statements\n",
    "\n",
    "def mult(a, b):\n",
    "    return a*b\n",
    "\n",
    "mult(2,3)"
   ]
  },
  {
   "cell_type": "code",
   "execution_count": 18,
   "id": "7bc62a9d",
   "metadata": {},
   "outputs": [
    {
     "data": {
      "text/plain": [
       "(7, 3)"
      ]
     },
     "execution_count": 18,
     "metadata": {},
     "output_type": "execute_result"
    }
   ],
   "source": [
    "def sums(a, b):\n",
    "    return a + b, a\n",
    "\n",
    "sums(3,4)"
   ]
  }
 ],
 "metadata": {
  "kernelspec": {
   "display_name": ".venv (3.11.5)",
   "language": "python",
   "name": "python3"
  },
  "language_info": {
   "codemirror_mode": {
    "name": "ipython",
    "version": 3
   },
   "file_extension": ".py",
   "mimetype": "text/x-python",
   "name": "python",
   "nbconvert_exporter": "python",
   "pygments_lexer": "ipython3",
   "version": "3.11.5"
  }
 },
 "nbformat": 4,
 "nbformat_minor": 5
}
