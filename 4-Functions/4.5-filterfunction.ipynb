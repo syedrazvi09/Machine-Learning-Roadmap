{
 "cells": [
  {
   "cell_type": "code",
   "execution_count": 1,
   "id": "72f3e3be",
   "metadata": {},
   "outputs": [],
   "source": [
    "def even_n(n):\n",
    "    if n % 2 == 0:\n",
    "        return True"
   ]
  },
  {
   "cell_type": "code",
   "execution_count": 3,
   "id": "3555b580",
   "metadata": {},
   "outputs": [
    {
     "data": {
      "text/plain": [
       "[2, 4, 6, 8]"
      ]
     },
     "execution_count": 3,
     "metadata": {},
     "output_type": "execute_result"
    }
   ],
   "source": [
    "lst = [1,2,3,4,5,6,7,8,9]\n",
    "\n",
    "list(filter(even_n, lst))"
   ]
  },
  {
   "cell_type": "code",
   "execution_count": 5,
   "id": "93818da6",
   "metadata": {},
   "outputs": [
    {
     "name": "stdout",
     "output_type": "stream",
     "text": [
      "[12, 6, 7, 8, 9]\n"
     ]
    }
   ],
   "source": [
    "nums = [12,3,4,5,6,7,8,9]\n",
    "\n",
    "g_t_f = list(filter(lambda x : x > 5, nums))\n",
    "print(g_t_f)"
   ]
  },
  {
   "cell_type": "code",
   "execution_count": 6,
   "id": "93c4108c",
   "metadata": {},
   "outputs": [
    {
     "name": "stdout",
     "output_type": "stream",
     "text": [
      "[12, 6, 8]\n"
     ]
    }
   ],
   "source": [
    "gef = list(filter(lambda x : x > 5 and x % 2 == 0, nums))\n",
    "print(gef)"
   ]
  },
  {
   "cell_type": "code",
   "execution_count": 7,
   "id": "9203ad0b",
   "metadata": {},
   "outputs": [
    {
     "data": {
      "text/plain": [
       "[{'name': 'Bruce', 'age': 45}, {'name': 'Falcone', 'age': 72}]"
      ]
     },
     "execution_count": 7,
     "metadata": {},
     "output_type": "execute_result"
    }
   ],
   "source": [
    "people = [\n",
    "    {'name' : 'Bruce', 'age' : 45},\n",
    "    {'name' : 'Falcone', 'age' : 72},\n",
    "    {'name' : 'Damian', 'age' : 16}\n",
    "]\n",
    "\n",
    "def check_age(persons):\n",
    "    return persons['age'] >= 18\n",
    "\n",
    "list(filter(check_age, people))"
   ]
  }
 ],
 "metadata": {
  "kernelspec": {
   "display_name": ".venv (3.11.5)",
   "language": "python",
   "name": "python3"
  },
  "language_info": {
   "codemirror_mode": {
    "name": "ipython",
    "version": 3
   },
   "file_extension": ".py",
   "mimetype": "text/x-python",
   "name": "python",
   "nbconvert_exporter": "python",
   "pygments_lexer": "ipython3",
   "version": "3.11.5"
  }
 },
 "nbformat": 4,
 "nbformat_minor": 5
}
